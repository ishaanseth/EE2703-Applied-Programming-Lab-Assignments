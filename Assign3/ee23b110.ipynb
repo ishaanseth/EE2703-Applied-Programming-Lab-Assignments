{
 "cells": [
  {
   "cell_type": "markdown",
   "id": "5fdd1655-3ca3-4751-b94e-a47fda0ebd12",
   "metadata": {},
   "source": [
    "#### EE23B110.ipynb\n",
    "Roll No: EE23B110  \n",
    "Name: Ishaan Seth  \n",
    "Date: 16 Sept 2024  \n",
    "Version: 1  \n",
    "Description: Estimating physical parameters (T, h, c, k) from spectral radiance data using Planck's law and visualizing the results.\n",
    "Inputs: filename (Name of the dataset file)  \n",
    "Outputs: plots of the curves and fitted curves, and fitted values of the parameters (T, h, c, k)  "
   ]
  },
  {
   "cell_type": "code",
   "execution_count": null,
   "id": "7ef97787-ed0b-47ba-878c-5bc75abb4ed4",
   "metadata": {},
   "outputs": [],
   "source": [
    "import matplotlib.pyplot as plt\n",
    "import numpy as np"
   ]
  },
  {
   "cell_type": "markdown",
   "id": "0ba21cd0-f43d-48e2-aa71-769acf0bd01c",
   "metadata": {},
   "source": [
    "## 0: Plotting the data"
   ]
  },
  {
   "cell_type": "code",
   "execution_count": null,
   "id": "3e26d0f1-77c0-481c-ae56-b078d57664af",
   "metadata": {},
   "outputs": [],
   "source": [
    "# Open and read the contents of d3.txt (You can use any data file here)\n",
    "with open('d1.txt', 'r') as file:\n",
    "    lines = file.readlines()\n",
    "\n",
    "# Initialize lists to store x and y coordinates\n",
    "x_points = []\n",
    "y_points = []\n",
    "\n",
    "# Parse the data\n",
    "for line in lines:\n",
    "    line = line.strip()  # Remove leading/trailing whitespaces\n",
    "    x, y = line.split(',')\n",
    "    \n",
    "    x_points.append(float(x.strip()))\n",
    "    y_points.append(float(y.strip()))\n",
    "\n",
    "# Plot the points using matplotlib\n",
    "plt.scatter(x_points, y_points, color='blue', marker='.')\n",
    "\n",
    "plt.xlabel('X axis')\n",
    "plt.ylabel('Y axis')\n",
    "plt.title('Plot of (x, y) datapoints')\n",
    "\n",
    "# Show the plot\n",
    "plt.show()"
   ]
  },
  {
   "cell_type": "markdown",
   "id": "563b5b8e-7a80-4cb0-a523-a2bddf9bb603",
   "metadata": {},
   "source": [
    "## I: Estimating All Variables\n",
    "\n",
    "### Estimating values of all variables (T, h, c and k) by curve fitting the data."
   ]
  },
  {
   "cell_type": "code",
   "execution_count": null,
   "id": "a0c70eec-8f75-42db-a27a-9e208e5e2fda",
   "metadata": {},
   "outputs": [],
   "source": [
    "from scipy.optimize import curve_fit\n",
    "\n",
    "# Define the Planck function with T, h, c, and k as variables to estimate\n",
    "def planck(lam, T, h, c, k):\n",
    "    return (2 * h * c**2) / (lam**5 * (np.exp(h * c / (lam * k * T)) - 1))\n",
    "\n",
    "# Assuming some initial guess for T, h, c, and k\n",
    "initial_guess =[1000, 1e-34, 1e8, 1e-23]  # [T, h, c, k]\n",
    "\n",
    "x_points = np.array(x_points)  # Wavelength data\n",
    "y_points = np.array(y_points)  # Intensity data\n",
    "\n",
    "# Perform curve fitting\n",
    "popt, pcov = curve_fit(planck, x_points, y_points, p0=initial_guess)\n",
    "\n",
    "# Extract the fitted parameters\n",
    "fitted_T, fitted_h, fitted_c, fitted_k = popt\n",
    "\n",
    "# Print the estimated values\n",
    "print(f\"Fitted Temperature (T): {fitted_T} K\")\n",
    "print(f\"Fitted Planck Constant (h): {fitted_h} J·s\")\n",
    "print(f\"Fitted Speed of Light (c): {fitted_c} m/s\")\n",
    "print(f\"Fitted Boltzmann Constant (k): {fitted_k} J/K\")\n",
    "\n",
    "# Calculate the fitted y values using the estimated parameters\n",
    "fitted_y = planck(x_points, fitted_T, fitted_h, fitted_c, fitted_k)\n",
    "\n",
    "# Plot the original data and the fitted curve\n",
    "plt.scatter(x_points, y_points, label='Data with Noise', color='blue')\n",
    "plt.plot(x_points, fitted_y, label=f'Fitted Planck\\'s Law', color='black', lw=2)\n",
    "\n",
    "# Labeling the plot\n",
    "plt.xlabel('Wavelength (λ)')\n",
    "plt.ylabel('Intensity (I)')\n",
    "plt.title('Curve Fitting Planck\\'s Law to Data')\n",
    "plt.legend()\n",
    "\n",
    "# Show the plot\n",
    "plt.show()"
   ]
  },
  {
   "cell_type": "markdown",
   "id": "0957dba9-ec66-4ade-91b9-5fd36843e8cb",
   "metadata": {},
   "source": [
    "### As you can see, all the values are significantly deviated from what they actually should be."
   ]
  },
  {
   "cell_type": "markdown",
   "id": "6e8b9f17-f3f9-49a1-9968-899f38720834",
   "metadata": {},
   "source": [
    "## II: Estimating T\n",
    "\n",
    "### Now, we estimate the value of just T, by using precise values of h, c and k obtained from scipy.constants."
   ]
  },
  {
   "cell_type": "code",
   "execution_count": null,
   "id": "2eb34454-3b24-484e-95dc-1c023a1979ce",
   "metadata": {},
   "outputs": [],
   "source": [
    "# Importing precise values of the scientific constants\n",
    "from scipy.constants import h, c, k\n",
    "\n",
    "# Defining Planck's Law equation with Lambda (wavelength) and T (temperature) as parameters\n",
    "def planckT(lam, T):\n",
    "    return planck(lam, T, h, c, k)\n",
    "\n",
    "# Initial guess for T\n",
    "initial_guess = 1000\n",
    "\n",
    "# Perform curve fitting\n",
    "popt, pcov = curve_fit(planckT, x_points, y_points, p0=[initial_guess])\n",
    "\n",
    "fitted_T = popt[0]\n",
    "print(f\"Fitted Temperature (T): {fitted_T} K\")\n",
    "\n",
    "fitted_y = planckT(x_points, fitted_T)\n",
    "\n",
    "# Plot the original data and the fitted curve\n",
    "plt.scatter(x_points, y_points, label='Data with Noise', color='blue')\n",
    "plt.plot(x_points, fitted_y, label=f'Fitted Planck\\'s Law (T = {fitted_T:.2f} K)', color='red', lw=2)\n",
    "\n",
    "# Labeling the plot\n",
    "plt.xlabel('Wavelength (λ)')\n",
    "plt.ylabel('Intensity (I)')\n",
    "plt.title('Curve Fitting Planck\\'s Law to Data')\n",
    "plt.legend()\n",
    "\n",
    "# Show the plot\n",
    "plt.show()"
   ]
  },
  {
   "cell_type": "markdown",
   "id": "1054d690-9501-47bd-b052-b5e9d457844f",
   "metadata": {},
   "source": [
    "## III: Estimating k\n",
    "\n",
    "### Now, we estimate k using the above obtained value of T, and using known values of h and c."
   ]
  },
  {
   "cell_type": "code",
   "execution_count": null,
   "id": "83a26957-57d1-44b2-9834-cdb5ce0f36ae",
   "metadata": {},
   "outputs": [],
   "source": [
    "# Resetting the value of k, as we are going to estimate it now\n",
    "k = 0\n",
    "\n",
    "# Using the value of T obtained previously as the value to be used here to estimate k\n",
    "T = fitted_T\n",
    "\n",
    "# Defining Planck's Law equation with Lambda (wavelength) and k (Boltzmann constant) as parameters\n",
    "def planckK(lam, k):\n",
    "    return planck(lam, T, h, c, k)\n",
    "\n",
    "# Initial guess for k\n",
    "initial_guess = 1e-23\n",
    "\n",
    "popt, pcov = curve_fit(planckK, x_points, y_points, p0=[initial_guess])\n",
    "\n",
    "fitted_K = popt[0]\n",
    "print(f\"Fitted Boltzmann Constant (k): {fitted_K} J/K\")\n",
    "\n",
    "fitted_y = planckK(x_points, fitted_K)\n",
    "\n",
    "# Plot the original data and the fitted curve\n",
    "plt.scatter(x_points, y_points, label='Data with Noise', color='blue')\n",
    "plt.plot(x_points, fitted_y, label=f'Fitted Planck\\'s Law (k = {fitted_K:.2e} J/K)', color='lime', lw=2)\n",
    "\n",
    "# Labeling the plot\n",
    "plt.xlabel('Wavelength (λ)')\n",
    "plt.ylabel('Intensity (I)')\n",
    "plt.title('Curve Fitting Planck\\'s Law to Data')\n",
    "plt.legend()\n",
    "\n",
    "# Show the plot\n",
    "plt.show()"
   ]
  },
  {
   "cell_type": "markdown",
   "id": "92d1672b-92d7-433d-b23a-09a5902bfc53",
   "metadata": {},
   "source": [
    "## IV: Estimating c\n",
    "\n",
    "### Now, we estimate c using the above obtained values of T and k, and using known value of h."
   ]
  },
  {
   "cell_type": "code",
   "execution_count": null,
   "id": "9e8b4a2a-175b-4f86-9368-aa7e87e6977d",
   "metadata": {},
   "outputs": [],
   "source": [
    "# Resetting the value of c, as we are going to estimate it now\n",
    "c = 0\n",
    "\n",
    "# Using the value of T and k obtained previously as the value to be used here to estimate c\n",
    "T = fitted_T\n",
    "k = fitted_K\n",
    "\n",
    "# Defining Planck's Law equation with Lambda (wavelength) and c (speed of light) as parameters\n",
    "def planckC(lam, c):\n",
    "    return planck(lam, T, h, c, k)\n",
    "\n",
    "# Initial guess for c\n",
    "initial_guess = 1e8\n",
    "\n",
    "popt, pcov = curve_fit(planckC, x_points, y_points, p0=[initial_guess])\n",
    "\n",
    "fitted_C = popt[0]\n",
    "print(f\"Fitted Speed of Light (c): {fitted_C} m/s\")\n",
    "\n",
    "fitted_y = planckC(x_points, fitted_C)\n",
    "\n",
    "# Plot the original data and the fitted curve\n",
    "plt.scatter(x_points, y_points, label='Data with Noise', color='blue')\n",
    "plt.plot(x_points, fitted_y, label=f'Fitted Planck\\'s Law (c = {fitted_C:.2e} m/s)', color='hotpink', lw=2)\n",
    "\n",
    "# Labeling the plot\n",
    "plt.xlabel('Wavelength (λ)')\n",
    "plt.ylabel('Intensity (I)')\n",
    "plt.title('Curve Fitting Planck\\'s Law to Data')\n",
    "plt.legend()\n",
    "\n",
    "# Show the plot\n",
    "plt.show()"
   ]
  },
  {
   "cell_type": "markdown",
   "id": "67ca7b58-ca7c-465e-b700-56ebb2f63cf6",
   "metadata": {},
   "source": [
    "## V: Estimating h\n",
    "\n",
    "### Now, we estimate h using the above obtained values of T, k and c."
   ]
  },
  {
   "cell_type": "code",
   "execution_count": null,
   "id": "9ce0e5f2-f3ef-48e5-983f-b682d60263df",
   "metadata": {},
   "outputs": [],
   "source": [
    "# Resetting the value of h, as we are going to estimate it now\n",
    "h = 0\n",
    "\n",
    "# Using the value of T, k and c obtained previously as the value to be used here to estimate h\n",
    "T = fitted_T\n",
    "k = fitted_K\n",
    "c = fitted_C\n",
    "\n",
    "# Defining Planck's Law equation with Lambda (wavelength) and h (Planck constant) as parameters\n",
    "def planckH(lam, h):\n",
    "    return planck(lam, T, h, c, k)\n",
    "\n",
    "# Initial guess for h\n",
    "initial_guess = 1e-34\n",
    "\n",
    "popt, pcov = curve_fit(planckH, x_points, y_points, p0=[initial_guess])\n",
    "\n",
    "fitted_H = popt[0]\n",
    "print(f\"Fitted PLanck Constant (h): {fitted_H} J·s\")\n",
    "\n",
    "fitted_y = planckH(x_points, fitted_H)\n",
    "\n",
    "# Plot the original data and the fitted curve\n",
    "plt.scatter(x_points, y_points, label='Data with Noise', color='blue')\n",
    "plt.plot(x_points, fitted_y, label=f'Fitted Planck\\'s Law (h = {fitted_H:.2e} J·s)', color='greenyellow', lw=2)\n",
    "\n",
    "# Labeling the plot\n",
    "plt.xlabel('Wavelength (λ)')\n",
    "plt.ylabel('Intensity (I)')\n",
    "plt.title('Curve Fitting Planck\\'s Law to Data')\n",
    "plt.legend()\n",
    "\n",
    "# Show the plot\n",
    "plt.show()"
   ]
  }
 ],
 "metadata": {
  "kernelspec": {
   "display_name": "Python 3 (ipykernel)",
   "language": "python",
   "name": "python3"
  },
  "language_info": {
   "codemirror_mode": {
    "name": "ipython",
    "version": 3
   },
   "file_extension": ".py",
   "mimetype": "text/x-python",
   "name": "python",
   "nbconvert_exporter": "python",
   "pygments_lexer": "ipython3",
   "version": "3.9.2"
  }
 },
 "nbformat": 4,
 "nbformat_minor": 5
}
